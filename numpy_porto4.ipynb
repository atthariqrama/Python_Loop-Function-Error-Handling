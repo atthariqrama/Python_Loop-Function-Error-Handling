{
  "nbformat": 4,
  "nbformat_minor": 0,
  "metadata": {
    "colab": {
      "name": "numpy_porto4.ipynb",
      "provenance": [],
      "collapsed_sections": []
    },
    "kernelspec": {
      "name": "python3",
      "display_name": "Python 3"
    },
    "language_info": {
      "name": "python"
    }
  },
  "cells": [
    {
      "cell_type": "markdown",
      "source": [
        "looping\n",
        "\n",
        "Loops in python are program code instructions that are executed repeatedly. Its function is to command the computer to do something repeatedly with a certain amount as long as a predetermined condition is still met"
      ],
      "metadata": {
        "id": "4TOy9hMlqhNO"
      }
    },
    {
      "cell_type": "code",
      "execution_count": null,
      "metadata": {
        "id": "q09kwNwvqLm5"
      },
      "outputs": [],
      "source": [
        "#for loop -> a for loop is used for iterating over a sequence (that is either a list, a tuple, a dictionary, a set, or a string)\n",
        "\n",
        "for i in 'data':\n",
        "  print(i)"
      ]
    },
    {
      "cell_type": "code",
      "source": [
        "color = ['merah','kuning','hijau']\n",
        "\n",
        "for i in color:\n",
        "  print('warna {}'.format(i))"
      ],
      "metadata": {
        "id": "pjYGMaeurYEd"
      },
      "execution_count": null,
      "outputs": []
    },
    {
      "cell_type": "code",
      "source": [
        "for i in range(3):\n",
        "  print(i)"
      ],
      "metadata": {
        "id": "xxevtxP5rbGi"
      },
      "execution_count": null,
      "outputs": []
    },
    {
      "cell_type": "code",
      "source": [
        "#nested loop -> create a loop inside a loop\n",
        "\n",
        "for row in range(3):\n",
        "    for col in range(3):\n",
        "      if row == 0 and col <= 2:\n",
        "        print(\"*\", end= \" \")\n",
        "      elif row == 1 and col <= 1:\n",
        "        print(\"*\", end= \" \")\n",
        "      elif row == 2 and col == 0:\n",
        "        print(\"*\", end= \" \")\n",
        "    print()"
      ],
      "metadata": {
        "id": "7ut6BmwUri2f"
      },
      "execution_count": null,
      "outputs": []
    },
    {
      "cell_type": "code",
      "source": [
        "for baris in range(5):\n",
        "  for kolom in range(7):\n",
        "    print('o', end = ' ')\n",
        "  else:\n",
        "    print('')"
      ],
      "metadata": {
        "id": "3rXBE9B8sYUv"
      },
      "execution_count": null,
      "outputs": []
    },
    {
      "cell_type": "code",
      "source": [
        "#while loop -> execute a set of statements as long as a condition is true\n",
        "\n",
        "angka = int(input())\n",
        "\n",
        "while (angka < 10):\n",
        "    angka = angka + 2\n",
        "    print(\"bilangan {}\".format(angka))"
      ],
      "metadata": {
        "id": "RXtQdXLcsa64"
      },
      "execution_count": null,
      "outputs": []
    },
    {
      "cell_type": "code",
      "source": [
        "#break -> with the break statement we can stop the loop even if the while condition is true\n",
        "\n",
        "for i in \"Data Science\":\n",
        "    if i == \" \":\n",
        "        break\n",
        "    print(i)"
      ],
      "metadata": {
        "id": "7P7SXJwAtJp-"
      },
      "execution_count": null,
      "outputs": []
    },
    {
      "cell_type": "code",
      "source": [
        "#continue -> with the continue statement we can stop the current iteration, and continue with the next statement\n",
        "\n",
        "for i in \"Data\":\n",
        "  if i == \"a\":\n",
        "      continue\n",
        "  print(i)"
      ],
      "metadata": {
        "id": "TnLjXiW3tXvZ"
      },
      "execution_count": null,
      "outputs": []
    },
    {
      "cell_type": "markdown",
      "source": [
        "else\n",
        "\n",
        "with the else statement we can run a block of code once when the condition no longer is true"
      ],
      "metadata": {
        "id": "75-033dBvwgC"
      }
    },
    {
      "cell_type": "code",
      "source": [
        "#else after while\n",
        "\n",
        "i = 1\n",
        "while i < 6:\n",
        "  print(i)\n",
        "  i += 1\n",
        "else:\n",
        "  print(i ,\"is no longer less than 6\")"
      ],
      "metadata": {
        "colab": {
          "base_uri": "https://localhost:8080/"
        },
        "id": "8NTGn0FktqHs",
        "outputId": "167d428b-761c-46b7-a070-de28e9f621e4"
      },
      "execution_count": null,
      "outputs": [
        {
          "output_type": "stream",
          "name": "stdout",
          "text": [
            "1\n",
            "2\n",
            "3\n",
            "4\n",
            "5\n",
            "6 is no longer less than 6\n"
          ]
        }
      ]
    },
    {
      "cell_type": "code",
      "source": [
        "angka = int(input())\n",
        "\n",
        "while (angka <10):\n",
        "    angka = angka +2\n",
        "    if angka == 6:\n",
        "      break\n",
        "    print(angka)\n",
        "else:\n",
        "    print(\"loop selesai\")"
      ],
      "metadata": {
        "id": "kbCaugE1wEmA"
      },
      "execution_count": null,
      "outputs": []
    },
    {
      "cell_type": "code",
      "source": [
        "#else after for\n",
        "\n",
        "for i in range(1,7):\n",
        "  if i % 2 == 0:\n",
        "      print(\"{} adalah genap\".format(i))\n",
        "      break\n",
        "  else:\n",
        "      print(\"{} adalah bukan genap\". format(i))"
      ],
      "metadata": {
        "id": "hbSFUKFFvWAF"
      },
      "execution_count": null,
      "outputs": []
    },
    {
      "cell_type": "code",
      "source": [
        "#pass -> when the pass statement is executed, nothing happens, but you avoid getting an error when empty code is not allowed\n",
        "\n",
        "import sys\n",
        "\n",
        "n = ''\n",
        "\n",
        "while(n != \"exit\"):\n",
        "    try:\n",
        "        n = (input(\"peroleh: \"))\n",
        "        print('dapat angka {}'.format(int(n)))\n",
        "    except:\n",
        "        if n == 'exit' :\n",
        "            pass\n",
        "        else:\n",
        "            print('dapat error{}'.format(sys.exc_info()[0]))"
      ],
      "metadata": {
        "id": "najSiLbqvgPB"
      },
      "execution_count": null,
      "outputs": []
    },
    {
      "cell_type": "code",
      "source": [
        "#list comprehension -> offers a shorter syntax when you want to create a new list based on the values of an existing list\n",
        "\n",
        "fruits = [\"apple\", \"banana\", \"cherry\", \"kiwi\", \"mango\"]\n",
        "newlist = []\n",
        "\n",
        "for x in fruits:\n",
        "  if \"a\" in x:\n",
        "    newlist.append(x)\n",
        "\n",
        "print(newlist)"
      ],
      "metadata": {
        "colab": {
          "base_uri": "https://localhost:8080/"
        },
        "id": "aQe9rpx4w_Ic",
        "outputId": "c47f7964-510d-4539-d8d8-e96eb0f77fe9"
      },
      "execution_count": null,
      "outputs": [
        {
          "output_type": "stream",
          "name": "stdout",
          "text": [
            "['apple', 'banana', 'mango']\n"
          ]
        }
      ]
    },
    {
      "cell_type": "code",
      "source": [
        "angka = [4,9,16]\n",
        "kubik = []\n",
        "\n",
        "for i in angka:\n",
        "  kubik.append(i**0.5)\n",
        "print(kubik)"
      ],
      "metadata": {
        "colab": {
          "base_uri": "https://localhost:8080/"
        },
        "id": "Z7OpmMcZxFlU",
        "outputId": "fd621979-e72f-4ecc-c905-28b5bb327aff"
      },
      "execution_count": null,
      "outputs": [
        {
          "output_type": "stream",
          "name": "stdout",
          "text": [
            "[2.0, 3.0, 4.0]\n"
          ]
        }
      ]
    },
    {
      "cell_type": "markdown",
      "source": [
        "Function\n",
        "\n",
        "A function is a block of code which only runs when it is called"
      ],
      "metadata": {
        "id": "xu8u-VrCx0JI"
      }
    },
    {
      "cell_type": "code",
      "source": [
        "def pangkat(x):\n",
        "    kuadrat = x**2 \n",
        "    return kuadrat"
      ],
      "metadata": {
        "id": "0UufeGACx5Io"
      },
      "execution_count": null,
      "outputs": []
    },
    {
      "cell_type": "code",
      "source": [
        "pangkat(3)"
      ],
      "metadata": {
        "colab": {
          "base_uri": "https://localhost:8080/"
        },
        "id": "a0BoQCOUx_jB",
        "outputId": "70e6f3d6-17be-4d5b-a034-95033c6a25cb"
      },
      "execution_count": null,
      "outputs": [
        {
          "output_type": "execute_result",
          "data": {
            "text/plain": [
              "9"
            ]
          },
          "metadata": {},
          "execution_count": 6
        }
      ]
    },
    {
      "cell_type": "code",
      "source": [
        "def tambah(x,y):\n",
        "    plus = x + y\n",
        "    print(\"Hasil penjumlahan adalah {}\".format(plus))"
      ],
      "metadata": {
        "id": "YE61Gib6yEJb"
      },
      "execution_count": null,
      "outputs": []
    },
    {
      "cell_type": "code",
      "source": [
        "tambah(2,3)"
      ],
      "metadata": {
        "colab": {
          "base_uri": "https://localhost:8080/"
        },
        "id": "SZl5CW88ybDw",
        "outputId": "8f15f1f9-fac1-4ca0-c13a-84f3c3679c74"
      },
      "execution_count": null,
      "outputs": [
        {
          "output_type": "stream",
          "name": "stdout",
          "text": [
            "Hasil penjumlahan adalah 5\n"
          ]
        }
      ]
    },
    {
      "cell_type": "code",
      "source": [
        "angka = int(input().strip())\n",
        "hasil = pangkat(angka)\n",
        "print(\"hasilnya kuadrat dari {} adalah {}\".format(angka,hasil))"
      ],
      "metadata": {
        "colab": {
          "base_uri": "https://localhost:8080/"
        },
        "id": "4mdZmds6ycNc",
        "outputId": "39630e63-0461-43d3-c9f4-c8f8315844c2"
      },
      "execution_count": null,
      "outputs": [
        {
          "output_type": "stream",
          "name": "stdout",
          "text": [
            "3\n",
            "hasilnya kuadrat dari 3 adalah 9\n"
          ]
        }
      ]
    },
    {
      "cell_type": "code",
      "source": [
        "def rubah(daftar_list):\n",
        "    daftar_list= [3,4]\n",
        "    print(\"Nilai dalam fungsi adalah {}\".format(daftar_list))"
      ],
      "metadata": {
        "id": "6RIp1vmtytwh"
      },
      "execution_count": null,
      "outputs": []
    },
    {
      "cell_type": "code",
      "source": [
        "daftar_list = [5,6]\n",
        "rubah(daftar_list)\n",
        "print(\"Nilai diluar fungsi adalah {}\".format(daftar_list))"
      ],
      "metadata": {
        "colab": {
          "base_uri": "https://localhost:8080/"
        },
        "id": "5d_aHXSrzPyM",
        "outputId": "6ff7fefd-bf7b-4134-94a4-c5be7b88e383"
      },
      "execution_count": null,
      "outputs": [
        {
          "output_type": "stream",
          "name": "stdout",
          "text": [
            "Nilai dalam fungsi adalah [3, 4]\n",
            "Nilai diluar fungsi adalah [5, 6]\n"
          ]
        }
      ]
    },
    {
      "cell_type": "code",
      "source": [
        "#argument and parameter in function\n",
        "\n",
        "def pangkat(x):\n",
        "    kuadrat = x**2 \n",
        "    return kuadrat\n",
        "#parameter = x\n",
        "#argumen = 3"
      ],
      "metadata": {
        "id": "TnrnMsX6zY5Y"
      },
      "execution_count": null,
      "outputs": []
    },
    {
      "cell_type": "code",
      "source": [
        "#keyword argumen\n",
        "def jadwal(tgl, bln, thn):\n",
        "  berangkat = \"Jadwal keberangkatan adalah tgl {} bln {} thn {}\".format(tgl,bln,thn)\n",
        "  return berangkat"
      ],
      "metadata": {
        "id": "jSrNGOFqzg4m"
      },
      "execution_count": null,
      "outputs": []
    },
    {
      "cell_type": "code",
      "source": [
        "jadwal(tgl=2, bln='feb', thn=2022)"
      ],
      "metadata": {
        "id": "tgC2umPszpTh"
      },
      "execution_count": null,
      "outputs": []
    },
    {
      "cell_type": "markdown",
      "source": [
        "error"
      ],
      "metadata": {
        "id": "Z9Gvv2s60ec-"
      }
    },
    {
      "cell_type": "code",
      "source": [
        "#Example: syntax Error\n",
        "\n",
        "print\"learn Python\""
      ],
      "metadata": {
        "id": "xdVR0Dus0fmA"
      },
      "execution_count": null,
      "outputs": []
    },
    {
      "cell_type": "code",
      "source": [
        "#Exception \n",
        "# 3 types Exception in the python programming languange,namely ZeroDivisionErro, NameError and TypeError\n",
        "\n",
        "#1. ZeroDivisionError\n",
        "\n",
        "7/0"
      ],
      "metadata": {
        "id": "fsd5JybV0huN"
      },
      "execution_count": null,
      "outputs": []
    },
    {
      "cell_type": "code",
      "source": [
        "#2. Name Error\n",
        "\n",
        "7+c"
      ],
      "metadata": {
        "id": "BJ1mspXA0ysq"
      },
      "execution_count": null,
      "outputs": []
    },
    {
      "cell_type": "code",
      "source": [
        "#3. Type Error\n",
        "\n",
        "a = 5\n",
        "b = \"learn python\"\n",
        "\n",
        "a + b"
      ],
      "metadata": {
        "id": "TCj76SHB00-A"
      },
      "execution_count": null,
      "outputs": []
    },
    {
      "cell_type": "code",
      "source": [
        ""
      ],
      "metadata": {
        "id": "Q_urgE-603Fm"
      },
      "execution_count": null,
      "outputs": []
    },
    {
      "cell_type": "markdown",
      "source": [
        "exception handling"
      ],
      "metadata": {
        "id": "94cfVXoO0Hq0"
      }
    },
    {
      "cell_type": "code",
      "source": [
        "#division by zero\n",
        "z = 0\n",
        "1 / z"
      ],
      "metadata": {
        "id": "f3Kyo0ADzrhX"
      },
      "execution_count": null,
      "outputs": []
    },
    {
      "cell_type": "code",
      "source": [
        "#to handle it\n",
        "try:\n",
        "   x = 1 / 0\n",
        "   print(x)\n",
        "except ZeroDivisionError:\n",
        "  print('Tidak bisa membagi angka dengan Nol')"
      ],
      "metadata": {
        "id": "56fnhe6-0MhB"
      },
      "execution_count": null,
      "outputs": []
    },
    {
      "cell_type": "code",
      "source": [
        "#another Error\n",
        "open('black hole')"
      ],
      "metadata": {
        "id": "ND8kHJyv0O6n"
      },
      "execution_count": null,
      "outputs": []
    },
    {
      "cell_type": "code",
      "source": [
        "#To Handle it\n",
        "try : \n",
        "  with open ('black hole') as file : \n",
        "    print (file.read())\n",
        "except FileNotFoundError : \n",
        "  print(\"black hole isn\\'t real\")"
      ],
      "metadata": {
        "id": "7VdHUcrA0RcL"
      },
      "execution_count": null,
      "outputs": []
    },
    {
      "cell_type": "code",
      "source": [
        "a = {'rata2' : '5'}"
      ],
      "metadata": {
        "id": "8oCYsVPk0ToL"
      },
      "execution_count": null,
      "outputs": []
    },
    {
      "cell_type": "code",
      "source": [
        "#Handling Exceptional in dictionary\n",
        "print ('rata2: {}') .format (a['rata2'])"
      ],
      "metadata": {
        "id": "_miIl2m20VsK"
      },
      "execution_count": null,
      "outputs": []
    },
    {
      "cell_type": "code",
      "source": [
        "#To Handle it\n",
        "a = {'rata.rata' : '10'}\n",
        "\n",
        "try:\n",
        "  print('ratarata: {}'. format(a['ratarata']))\n",
        "except KeyError:\n",
        "  print('key not found in dictionary')\n",
        "except ValueError:\n",
        "  print('value does not match')"
      ],
      "metadata": {
        "id": "gBwsWG3Y0XxO"
      },
      "execution_count": null,
      "outputs": []
    }
  ]
}